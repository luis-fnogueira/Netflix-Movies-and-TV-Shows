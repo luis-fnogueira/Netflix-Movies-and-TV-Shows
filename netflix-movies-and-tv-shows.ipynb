{
 "cells": [
  {
   "cell_type": "code",
   "execution_count": 1,
   "id": "288148a5",
   "metadata": {
    "_cell_guid": "b1076dfc-b9ad-4769-8c92-a6c4dae69d19",
    "_uuid": "8f2839f25d086af736a60e9eeb907d3b93b6e0e5",
    "execution": {
     "iopub.execute_input": "2022-03-22T22:34:58.633272Z",
     "iopub.status.busy": "2022-03-22T22:34:58.628532Z",
     "iopub.status.idle": "2022-03-22T22:34:58.650678Z",
     "shell.execute_reply": "2022-03-22T22:34:58.649745Z",
     "shell.execute_reply.started": "2022-03-22T22:18:48.284137Z"
    },
    "papermill": {
     "duration": 0.040393,
     "end_time": "2022-03-22T22:34:58.650900",
     "exception": false,
     "start_time": "2022-03-22T22:34:58.610507",
     "status": "completed"
    },
    "tags": []
   },
   "outputs": [
    {
     "name": "stdout",
     "output_type": "stream",
     "text": [
      "/kaggle/input/netflix-shows/netflix_titles.csv\n"
     ]
    }
   ],
   "source": [
    "# This Python 3 environment comes with many helpful analytics libraries installed\n",
    "# It is defined by the kaggle/python Docker image: https://github.com/kaggle/docker-python\n",
    "# For example, here's several helpful packages to load\n",
    "\n",
    "import numpy as np # linear algebra\n",
    "import pandas as pd # data processing, CSV file I/O (e.g. pd.read_csv)\n",
    "%matplotlib inline\n",
    "import matplotlib.pyplot as plt\n",
    "\n",
    "# Input data files are available in the read-only \"../input/\" directory\n",
    "# For example, running this (by clicking run or pressing Shift+Enter) will list all files under the input directory\n",
    "\n",
    "import os\n",
    "for dirname, _, filenames in os.walk('/kaggle/input'):\n",
    "    for filename in filenames:\n",
    "        print(os.path.join(dirname, filename))\n",
    "\n",
    "# You can write up to 20GB to the current directory (/kaggle/working/) that gets preserved as output when you create a version using \"Save & Run All\" \n",
    "# You can also write temporary files to /kaggle/temp/, but they won't be saved outside of the current session"
   ]
  },
  {
   "cell_type": "markdown",
   "id": "2d21eeb6",
   "metadata": {
    "papermill": {
     "duration": 0.008577,
     "end_time": "2022-03-22T22:34:58.670006",
     "exception": false,
     "start_time": "2022-03-22T22:34:58.661429",
     "status": "completed"
    },
    "tags": []
   },
   "source": [
    "Creating the dataframe and having the first glances on the dataset."
   ]
  },
  {
   "cell_type": "code",
   "execution_count": 2,
   "id": "9f042c2f",
   "metadata": {
    "execution": {
     "iopub.execute_input": "2022-03-22T22:34:58.692702Z",
     "iopub.status.busy": "2022-03-22T22:34:58.691900Z",
     "iopub.status.idle": "2022-03-22T22:34:58.841762Z",
     "shell.execute_reply": "2022-03-22T22:34:58.842283Z",
     "shell.execute_reply.started": "2022-03-22T21:51:49.456766Z"
    },
    "papermill": {
     "duration": 0.163692,
     "end_time": "2022-03-22T22:34:58.842494",
     "exception": false,
     "start_time": "2022-03-22T22:34:58.678802",
     "status": "completed"
    },
    "tags": []
   },
   "outputs": [],
   "source": [
    "df = pd.read_csv('/kaggle/input/netflix-shows/netflix_titles.csv')"
   ]
  },
  {
   "cell_type": "code",
   "execution_count": 3,
   "id": "1f4d0c13",
   "metadata": {
    "execution": {
     "iopub.execute_input": "2022-03-22T22:34:58.869802Z",
     "iopub.status.busy": "2022-03-22T22:34:58.869123Z",
     "iopub.status.idle": "2022-03-22T22:34:58.888280Z",
     "shell.execute_reply": "2022-03-22T22:34:58.888783Z",
     "shell.execute_reply.started": "2022-03-22T21:51:49.613437Z"
    },
    "papermill": {
     "duration": 0.037078,
     "end_time": "2022-03-22T22:34:58.888947",
     "exception": false,
     "start_time": "2022-03-22T22:34:58.851869",
     "status": "completed"
    },
    "tags": []
   },
   "outputs": [
    {
     "data": {
      "text/html": [
       "<div>\n",
       "<style scoped>\n",
       "    .dataframe tbody tr th:only-of-type {\n",
       "        vertical-align: middle;\n",
       "    }\n",
       "\n",
       "    .dataframe tbody tr th {\n",
       "        vertical-align: top;\n",
       "    }\n",
       "\n",
       "    .dataframe thead th {\n",
       "        text-align: right;\n",
       "    }\n",
       "</style>\n",
       "<table border=\"1\" class=\"dataframe\">\n",
       "  <thead>\n",
       "    <tr style=\"text-align: right;\">\n",
       "      <th></th>\n",
       "      <th>show_id</th>\n",
       "      <th>type</th>\n",
       "      <th>title</th>\n",
       "      <th>director</th>\n",
       "      <th>cast</th>\n",
       "      <th>country</th>\n",
       "      <th>date_added</th>\n",
       "      <th>release_year</th>\n",
       "      <th>rating</th>\n",
       "      <th>duration</th>\n",
       "      <th>listed_in</th>\n",
       "      <th>description</th>\n",
       "    </tr>\n",
       "  </thead>\n",
       "  <tbody>\n",
       "    <tr>\n",
       "      <th>0</th>\n",
       "      <td>s1</td>\n",
       "      <td>Movie</td>\n",
       "      <td>Dick Johnson Is Dead</td>\n",
       "      <td>Kirsten Johnson</td>\n",
       "      <td>NaN</td>\n",
       "      <td>United States</td>\n",
       "      <td>September 25, 2021</td>\n",
       "      <td>2020</td>\n",
       "      <td>PG-13</td>\n",
       "      <td>90 min</td>\n",
       "      <td>Documentaries</td>\n",
       "      <td>As her father nears the end of his life, filmm...</td>\n",
       "    </tr>\n",
       "    <tr>\n",
       "      <th>1</th>\n",
       "      <td>s2</td>\n",
       "      <td>TV Show</td>\n",
       "      <td>Blood &amp; Water</td>\n",
       "      <td>NaN</td>\n",
       "      <td>Ama Qamata, Khosi Ngema, Gail Mabalane, Thaban...</td>\n",
       "      <td>South Africa</td>\n",
       "      <td>September 24, 2021</td>\n",
       "      <td>2021</td>\n",
       "      <td>TV-MA</td>\n",
       "      <td>2 Seasons</td>\n",
       "      <td>International TV Shows, TV Dramas, TV Mysteries</td>\n",
       "      <td>After crossing paths at a party, a Cape Town t...</td>\n",
       "    </tr>\n",
       "    <tr>\n",
       "      <th>2</th>\n",
       "      <td>s3</td>\n",
       "      <td>TV Show</td>\n",
       "      <td>Ganglands</td>\n",
       "      <td>Julien Leclercq</td>\n",
       "      <td>Sami Bouajila, Tracy Gotoas, Samuel Jouy, Nabi...</td>\n",
       "      <td>NaN</td>\n",
       "      <td>September 24, 2021</td>\n",
       "      <td>2021</td>\n",
       "      <td>TV-MA</td>\n",
       "      <td>1 Season</td>\n",
       "      <td>Crime TV Shows, International TV Shows, TV Act...</td>\n",
       "      <td>To protect his family from a powerful drug lor...</td>\n",
       "    </tr>\n",
       "    <tr>\n",
       "      <th>3</th>\n",
       "      <td>s4</td>\n",
       "      <td>TV Show</td>\n",
       "      <td>Jailbirds New Orleans</td>\n",
       "      <td>NaN</td>\n",
       "      <td>NaN</td>\n",
       "      <td>NaN</td>\n",
       "      <td>September 24, 2021</td>\n",
       "      <td>2021</td>\n",
       "      <td>TV-MA</td>\n",
       "      <td>1 Season</td>\n",
       "      <td>Docuseries, Reality TV</td>\n",
       "      <td>Feuds, flirtations and toilet talk go down amo...</td>\n",
       "    </tr>\n",
       "    <tr>\n",
       "      <th>4</th>\n",
       "      <td>s5</td>\n",
       "      <td>TV Show</td>\n",
       "      <td>Kota Factory</td>\n",
       "      <td>NaN</td>\n",
       "      <td>Mayur More, Jitendra Kumar, Ranjan Raj, Alam K...</td>\n",
       "      <td>India</td>\n",
       "      <td>September 24, 2021</td>\n",
       "      <td>2021</td>\n",
       "      <td>TV-MA</td>\n",
       "      <td>2 Seasons</td>\n",
       "      <td>International TV Shows, Romantic TV Shows, TV ...</td>\n",
       "      <td>In a city of coaching centers known to train I...</td>\n",
       "    </tr>\n",
       "  </tbody>\n",
       "</table>\n",
       "</div>"
      ],
      "text/plain": [
       "  show_id     type                  title         director  \\\n",
       "0      s1    Movie   Dick Johnson Is Dead  Kirsten Johnson   \n",
       "1      s2  TV Show          Blood & Water              NaN   \n",
       "2      s3  TV Show              Ganglands  Julien Leclercq   \n",
       "3      s4  TV Show  Jailbirds New Orleans              NaN   \n",
       "4      s5  TV Show           Kota Factory              NaN   \n",
       "\n",
       "                                                cast        country  \\\n",
       "0                                                NaN  United States   \n",
       "1  Ama Qamata, Khosi Ngema, Gail Mabalane, Thaban...   South Africa   \n",
       "2  Sami Bouajila, Tracy Gotoas, Samuel Jouy, Nabi...            NaN   \n",
       "3                                                NaN            NaN   \n",
       "4  Mayur More, Jitendra Kumar, Ranjan Raj, Alam K...          India   \n",
       "\n",
       "           date_added  release_year rating   duration  \\\n",
       "0  September 25, 2021          2020  PG-13     90 min   \n",
       "1  September 24, 2021          2021  TV-MA  2 Seasons   \n",
       "2  September 24, 2021          2021  TV-MA   1 Season   \n",
       "3  September 24, 2021          2021  TV-MA   1 Season   \n",
       "4  September 24, 2021          2021  TV-MA  2 Seasons   \n",
       "\n",
       "                                           listed_in  \\\n",
       "0                                      Documentaries   \n",
       "1    International TV Shows, TV Dramas, TV Mysteries   \n",
       "2  Crime TV Shows, International TV Shows, TV Act...   \n",
       "3                             Docuseries, Reality TV   \n",
       "4  International TV Shows, Romantic TV Shows, TV ...   \n",
       "\n",
       "                                         description  \n",
       "0  As her father nears the end of his life, filmm...  \n",
       "1  After crossing paths at a party, a Cape Town t...  \n",
       "2  To protect his family from a powerful drug lor...  \n",
       "3  Feuds, flirtations and toilet talk go down amo...  \n",
       "4  In a city of coaching centers known to train I...  "
      ]
     },
     "execution_count": 3,
     "metadata": {},
     "output_type": "execute_result"
    }
   ],
   "source": [
    "df.head()"
   ]
  },
  {
   "cell_type": "markdown",
   "id": "1a550db4",
   "metadata": {
    "papermill": {
     "duration": 0.009628,
     "end_time": "2022-03-22T22:34:58.908792",
     "exception": false,
     "start_time": "2022-03-22T22:34:58.899164",
     "status": "completed"
    },
    "tags": []
   },
   "source": [
    "# Let's see how is the distribution of types."
   ]
  },
  {
   "cell_type": "code",
   "execution_count": 4,
   "id": "c2c791fa",
   "metadata": {
    "execution": {
     "iopub.execute_input": "2022-03-22T22:34:58.932959Z",
     "iopub.status.busy": "2022-03-22T22:34:58.931981Z",
     "iopub.status.idle": "2022-03-22T22:34:58.945528Z",
     "shell.execute_reply": "2022-03-22T22:34:58.946011Z",
     "shell.execute_reply.started": "2022-03-22T22:02:53.952470Z"
    },
    "papermill": {
     "duration": 0.027533,
     "end_time": "2022-03-22T22:34:58.946194",
     "exception": false,
     "start_time": "2022-03-22T22:34:58.918661",
     "status": "completed"
    },
    "tags": []
   },
   "outputs": [
    {
     "data": {
      "text/plain": [
       "Movie      6131\n",
       "TV Show    2676\n",
       "Name: type, dtype: int64"
      ]
     },
     "execution_count": 4,
     "metadata": {},
     "output_type": "execute_result"
    }
   ],
   "source": [
    "df['type'].value_counts()"
   ]
  },
  {
   "cell_type": "code",
   "execution_count": 5,
   "id": "73994466",
   "metadata": {
    "execution": {
     "iopub.execute_input": "2022-03-22T22:34:58.970464Z",
     "iopub.status.busy": "2022-03-22T22:34:58.969511Z",
     "iopub.status.idle": "2022-03-22T22:34:58.986433Z",
     "shell.execute_reply": "2022-03-22T22:34:58.987037Z",
     "shell.execute_reply.started": "2022-03-22T22:17:52.947152Z"
    },
    "papermill": {
     "duration": 0.030688,
     "end_time": "2022-03-22T22:34:58.987223",
     "exception": false,
     "start_time": "2022-03-22T22:34:58.956535",
     "status": "completed"
    },
    "tags": []
   },
   "outputs": [
    {
     "name": "stdout",
     "output_type": "stream",
     "text": [
      "{'movies': 6131, 'TV Show': 2676}\n"
     ]
    }
   ],
   "source": [
    "# Inserting the values aboce in a python dictionary.\n",
    "proportion = {}\n",
    "\n",
    "proportion['movies'] = df[df['type']=='Movie']['type'].count()\n",
    "proportion['TV Show'] = df[df['type']=='TV Show']['type'].count()\n",
    "\n",
    "print(proportion)\n"
   ]
  },
  {
   "cell_type": "code",
   "execution_count": 6,
   "id": "11fa3f6f",
   "metadata": {
    "execution": {
     "iopub.execute_input": "2022-03-22T22:34:59.015230Z",
     "iopub.status.busy": "2022-03-22T22:34:59.014508Z",
     "iopub.status.idle": "2022-03-22T22:34:59.147522Z",
     "shell.execute_reply": "2022-03-22T22:34:59.148562Z",
     "shell.execute_reply.started": "2022-03-22T22:34:01.314542Z"
    },
    "papermill": {
     "duration": 0.150814,
     "end_time": "2022-03-22T22:34:59.148828",
     "exception": false,
     "start_time": "2022-03-22T22:34:58.998014",
     "status": "completed"
    },
    "tags": []
   },
   "outputs": [
    {
     "data": {
      "image/png": "[encoded data removed]",
      "text/plain": [
       "<Figure size 432x288 with 1 Axes>"
      ]
     },
     "metadata": {},
     "output_type": "display_data"
    }
   ],
   "source": [
    "# Data to plot\n",
    "labels = []\n",
    "sizes = []\n",
    "\n",
    "for x, y in proportion.items():\n",
    "    labels.append(x)\n",
    "    sizes.append(y)\n",
    "    \n",
    "labels = [x.upper() for x in labels]    \n",
    "colors_list = ['blue','cyan']    \n",
    "    \n",
    "# Plot\n",
    "plt.pie(sizes, labels=labels, colors=colors_list)\n",
    "plt.title(\"Distribution of types\")\n",
    "\n",
    "plt.show()"
   ]
  }
 ],
 "metadata": {
  "kernelspec": {
   "display_name": "Python 3",
   "language": "python",
   "name": "python3"
  },
  "language_info": {
   "codemirror_mode": {
    "name": "ipython",
    "version": 3
   },
   "file_extension": ".py",
   "mimetype": "text/x-python",
   "name": "python",
   "nbconvert_exporter": "python",
   "pygments_lexer": "ipython3",
   "version": "3.7.12"
  },
  "papermill": {
   "default_parameters": {},
   "duration": 11.082155,
   "end_time": "2022-03-22T22:34:59.780226",
   "environment_variables": {},
   "exception": null,
   "input_path": "__notebook__.ipynb",
   "output_path": "__notebook__.ipynb",
   "parameters": {},
   "start_time": "2022-03-22T22:34:48.698071",
   "version": "2.3.3"
  }
 },
 "nbformat": 4,
 "nbformat_minor": 5
}
