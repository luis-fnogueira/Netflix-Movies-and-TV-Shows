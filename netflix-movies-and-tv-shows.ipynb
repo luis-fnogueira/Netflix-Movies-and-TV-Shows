{
 "cells": [
  {
   "cell_type": "code",
   "execution_count": 1,
   "id": "96115851",
   "metadata": {
    "_cell_guid": "b1076dfc-b9ad-4769-8c92-a6c4dae69d19",
    "_uuid": "8f2839f25d086af736a60e9eeb907d3b93b6e0e5",
    "execution": {
     "iopub.execute_input": "2022-06-06T23:09:05.400095Z",
     "iopub.status.busy": "2022-06-06T23:09:05.399381Z",
     "iopub.status.idle": "2022-06-06T23:09:05.413492Z",
     "shell.execute_reply": "2022-06-06T23:09:05.412551Z",
     "shell.execute_reply.started": "2022-06-06T22:41:06.032797Z"
    },
    "papermill": {
     "duration": 0.042414,
     "end_time": "2022-06-06T23:09:05.413687",
     "exception": false,
     "start_time": "2022-06-06T23:09:05.371273",
     "status": "completed"
    },
    "tags": []
   },
   "outputs": [
    {
     "name": "stdout",
     "output_type": "stream",
     "text": [
      "/kaggle/input/netflix-shows/netflix_titles.csv\n"
     ]
    }
   ],
   "source": [
    "# This Python 3 environment comes with many helpful analytics libraries installed\n",
    "# It is defined by the kaggle/python Docker image: https://github.com/kaggle/docker-python\n",
    "# For example, here's several helpful packages to load\n",
    "\n",
    "import numpy as np # linear algebra\n",
    "import pandas as pd # data processing, CSV file I/O (e.g. pd.read_csv)\n",
    "%matplotlib inline\n",
    "import matplotlib.pyplot as plt\n",
    "\n",
    "# Input data files are available in the read-only \"../input/\" directory\n",
    "# For example, running this (by clicking run or pressing Shift+Enter) will list all files under the input directory\n",
    "\n",
    "import os\n",
    "for dirname, _, filenames in os.walk('/kaggle/input'):\n",
    "    for filename in filenames:\n",
    "        print(os.path.join(dirname, filename))\n",
    "\n",
    "# You can write up to 20GB to the current directory (/kaggle/working/) that gets preserved as output when you create a version using \"Save & Run All\" \n",
    "# You can also write temporary files to /kaggle/temp/, but they won't be saved outside of the current session"
   ]
  },
  {
   "cell_type": "markdown",
   "id": "b9442af0",
   "metadata": {
    "papermill": {
     "duration": 0.014745,
     "end_time": "2022-06-06T23:09:05.444877",
     "exception": false,
     "start_time": "2022-06-06T23:09:05.430132",
     "status": "completed"
    },
    "tags": []
   },
   "source": [
    "Creating the dataframe and having the first glances on the dataset."
   ]
  },
  {
   "cell_type": "code",
   "execution_count": 2,
   "id": "f666a9e1",
   "metadata": {
    "execution": {
     "iopub.execute_input": "2022-06-06T23:09:05.481382Z",
     "iopub.status.busy": "2022-06-06T23:09:05.480661Z",
     "iopub.status.idle": "2022-06-06T23:09:05.876095Z",
     "shell.execute_reply": "2022-06-06T23:09:05.875506Z",
     "shell.execute_reply.started": "2022-06-06T22:43:16.138910Z"
    },
    "papermill": {
     "duration": 0.415991,
     "end_time": "2022-06-06T23:09:05.876230",
     "exception": false,
     "start_time": "2022-06-06T23:09:05.460239",
     "status": "completed"
    },
    "tags": []
   },
   "outputs": [],
   "source": [
    "df = pd.read_csv('/kaggle/input/netflix-shows/netflix_titles.csv', parse_dates=['date_added', 'release_year'])"
   ]
  },
  {
   "cell_type": "code",
   "execution_count": 3,
   "id": "734c1605",
   "metadata": {
    "execution": {
     "iopub.execute_input": "2022-06-06T23:09:05.912883Z",
     "iopub.status.busy": "2022-06-06T23:09:05.912236Z",
     "iopub.status.idle": "2022-06-06T23:09:05.931324Z",
     "shell.execute_reply": "2022-06-06T23:09:05.930883Z",
     "shell.execute_reply.started": "2022-06-06T22:42:43.864431Z"
    },
    "papermill": {
     "duration": 0.04017,
     "end_time": "2022-06-06T23:09:05.931437",
     "exception": false,
     "start_time": "2022-06-06T23:09:05.891267",
     "status": "completed"
    },
    "tags": []
   },
   "outputs": [
    {
     "data": {
      "text/html": [
       "<div>\n",
       "<style scoped>\n",
       "    .dataframe tbody tr th:only-of-type {\n",
       "        vertical-align: middle;\n",
       "    }\n",
       "\n",
       "    .dataframe tbody tr th {\n",
       "        vertical-align: top;\n",
       "    }\n",
       "\n",
       "    .dataframe thead th {\n",
       "        text-align: right;\n",
       "    }\n",
       "</style>\n",
       "<table border=\"1\" class=\"dataframe\">\n",
       "  <thead>\n",
       "    <tr style=\"text-align: right;\">\n",
       "      <th></th>\n",
       "      <th>show_id</th>\n",
       "      <th>type</th>\n",
       "      <th>title</th>\n",
       "      <th>director</th>\n",
       "      <th>cast</th>\n",
       "      <th>country</th>\n",
       "      <th>date_added</th>\n",
       "      <th>release_year</th>\n",
       "      <th>rating</th>\n",
       "      <th>duration</th>\n",
       "      <th>listed_in</th>\n",
       "      <th>description</th>\n",
       "    </tr>\n",
       "  </thead>\n",
       "  <tbody>\n",
       "    <tr>\n",
       "      <th>0</th>\n",
       "      <td>s1</td>\n",
       "      <td>Movie</td>\n",
       "      <td>Dick Johnson Is Dead</td>\n",
       "      <td>Kirsten Johnson</td>\n",
       "      <td>NaN</td>\n",
       "      <td>United States</td>\n",
       "      <td>2021-09-25</td>\n",
       "      <td>2020-01-01</td>\n",
       "      <td>PG-13</td>\n",
       "      <td>90 min</td>\n",
       "      <td>Documentaries</td>\n",
       "      <td>As her father nears the end of his life, filmm...</td>\n",
       "    </tr>\n",
       "    <tr>\n",
       "      <th>1</th>\n",
       "      <td>s2</td>\n",
       "      <td>TV Show</td>\n",
       "      <td>Blood &amp; Water</td>\n",
       "      <td>NaN</td>\n",
       "      <td>Ama Qamata, Khosi Ngema, Gail Mabalane, Thaban...</td>\n",
       "      <td>South Africa</td>\n",
       "      <td>2021-09-24</td>\n",
       "      <td>2021-01-01</td>\n",
       "      <td>TV-MA</td>\n",
       "      <td>2 Seasons</td>\n",
       "      <td>International TV Shows, TV Dramas, TV Mysteries</td>\n",
       "      <td>After crossing paths at a party, a Cape Town t...</td>\n",
       "    </tr>\n",
       "    <tr>\n",
       "      <th>2</th>\n",
       "      <td>s3</td>\n",
       "      <td>TV Show</td>\n",
       "      <td>Ganglands</td>\n",
       "      <td>Julien Leclercq</td>\n",
       "      <td>Sami Bouajila, Tracy Gotoas, Samuel Jouy, Nabi...</td>\n",
       "      <td>NaN</td>\n",
       "      <td>2021-09-24</td>\n",
       "      <td>2021-01-01</td>\n",
       "      <td>TV-MA</td>\n",
       "      <td>1 Season</td>\n",
       "      <td>Crime TV Shows, International TV Shows, TV Act...</td>\n",
       "      <td>To protect his family from a powerful drug lor...</td>\n",
       "    </tr>\n",
       "    <tr>\n",
       "      <th>3</th>\n",
       "      <td>s4</td>\n",
       "      <td>TV Show</td>\n",
       "      <td>Jailbirds New Orleans</td>\n",
       "      <td>NaN</td>\n",
       "      <td>NaN</td>\n",
       "      <td>NaN</td>\n",
       "      <td>2021-09-24</td>\n",
       "      <td>2021-01-01</td>\n",
       "      <td>TV-MA</td>\n",
       "      <td>1 Season</td>\n",
       "      <td>Docuseries, Reality TV</td>\n",
       "      <td>Feuds, flirtations and toilet talk go down amo...</td>\n",
       "    </tr>\n",
       "    <tr>\n",
       "      <th>4</th>\n",
       "      <td>s5</td>\n",
       "      <td>TV Show</td>\n",
       "      <td>Kota Factory</td>\n",
       "      <td>NaN</td>\n",
       "      <td>Mayur More, Jitendra Kumar, Ranjan Raj, Alam K...</td>\n",
       "      <td>India</td>\n",
       "      <td>2021-09-24</td>\n",
       "      <td>2021-01-01</td>\n",
       "      <td>TV-MA</td>\n",
       "      <td>2 Seasons</td>\n",
       "      <td>International TV Shows, Romantic TV Shows, TV ...</td>\n",
       "      <td>In a city of coaching centers known to train I...</td>\n",
       "    </tr>\n",
       "  </tbody>\n",
       "</table>\n",
       "</div>"
      ],
      "text/plain": [
       "  show_id     type                  title         director  \\\n",
       "0      s1    Movie   Dick Johnson Is Dead  Kirsten Johnson   \n",
       "1      s2  TV Show          Blood & Water              NaN   \n",
       "2      s3  TV Show              Ganglands  Julien Leclercq   \n",
       "3      s4  TV Show  Jailbirds New Orleans              NaN   \n",
       "4      s5  TV Show           Kota Factory              NaN   \n",
       "\n",
       "                                                cast        country  \\\n",
       "0                                                NaN  United States   \n",
       "1  Ama Qamata, Khosi Ngema, Gail Mabalane, Thaban...   South Africa   \n",
       "2  Sami Bouajila, Tracy Gotoas, Samuel Jouy, Nabi...            NaN   \n",
       "3                                                NaN            NaN   \n",
       "4  Mayur More, Jitendra Kumar, Ranjan Raj, Alam K...          India   \n",
       "\n",
       "  date_added release_year rating   duration  \\\n",
       "0 2021-09-25   2020-01-01  PG-13     90 min   \n",
       "1 2021-09-24   2021-01-01  TV-MA  2 Seasons   \n",
       "2 2021-09-24   2021-01-01  TV-MA   1 Season   \n",
       "3 2021-09-24   2021-01-01  TV-MA   1 Season   \n",
       "4 2021-09-24   2021-01-01  TV-MA  2 Seasons   \n",
       "\n",
       "                                           listed_in  \\\n",
       "0                                      Documentaries   \n",
       "1    International TV Shows, TV Dramas, TV Mysteries   \n",
       "2  Crime TV Shows, International TV Shows, TV Act...   \n",
       "3                             Docuseries, Reality TV   \n",
       "4  International TV Shows, Romantic TV Shows, TV ...   \n",
       "\n",
       "                                         description  \n",
       "0  As her father nears the end of his life, filmm...  \n",
       "1  After crossing paths at a party, a Cape Town t...  \n",
       "2  To protect his family from a powerful drug lor...  \n",
       "3  Feuds, flirtations and toilet talk go down amo...  \n",
       "4  In a city of coaching centers known to train I...  "
      ]
     },
     "execution_count": 3,
     "metadata": {},
     "output_type": "execute_result"
    }
   ],
   "source": [
    "df.head()"
   ]
  },
  {
   "cell_type": "code",
   "execution_count": 4,
   "id": "d6800025",
   "metadata": {
    "execution": {
     "iopub.execute_input": "2022-06-06T23:09:05.957137Z",
     "iopub.status.busy": "2022-06-06T23:09:05.956483Z",
     "iopub.status.idle": "2022-06-06T23:09:05.973692Z",
     "shell.execute_reply": "2022-06-06T23:09:05.974031Z",
     "shell.execute_reply.started": "2022-06-06T22:42:48.690167Z"
    },
    "papermill": {
     "duration": 0.031371,
     "end_time": "2022-06-06T23:09:05.974203",
     "exception": false,
     "start_time": "2022-06-06T23:09:05.942832",
     "status": "completed"
    },
    "tags": []
   },
   "outputs": [
    {
     "data": {
      "text/plain": [
       "show_id            0\n",
       "type               0\n",
       "title              0\n",
       "director        2634\n",
       "cast             825\n",
       "country          831\n",
       "date_added        10\n",
       "release_year       0\n",
       "rating             4\n",
       "duration           3\n",
       "listed_in          0\n",
       "description        0\n",
       "dtype: int64"
      ]
     },
     "execution_count": 4,
     "metadata": {},
     "output_type": "execute_result"
    }
   ],
   "source": [
    "# Understanding the null values in the dataset\n",
    "df.isnull().sum()"
   ]
  },
  {
   "cell_type": "markdown",
   "id": "6dd5a5cb",
   "metadata": {
    "papermill": {
     "duration": 0.010336,
     "end_time": "2022-06-06T23:09:05.995412",
     "exception": false,
     "start_time": "2022-06-06T23:09:05.985076",
     "status": "completed"
    },
    "tags": []
   },
   "source": [
    "# Let's see how is the distribution of types."
   ]
  },
  {
   "cell_type": "code",
   "execution_count": 5,
   "id": "484f4be6",
   "metadata": {
    "execution": {
     "iopub.execute_input": "2022-06-06T23:09:06.019496Z",
     "iopub.status.busy": "2022-06-06T23:09:06.019028Z",
     "iopub.status.idle": "2022-06-06T23:09:06.029253Z",
     "shell.execute_reply": "2022-06-06T23:09:06.029618Z",
     "shell.execute_reply.started": "2022-06-06T22:41:06.295416Z"
    },
    "papermill": {
     "duration": 0.023832,
     "end_time": "2022-06-06T23:09:06.029739",
     "exception": false,
     "start_time": "2022-06-06T23:09:06.005907",
     "status": "completed"
    },
    "tags": []
   },
   "outputs": [
    {
     "data": {
      "text/plain": [
       "Movie      0.696151\n",
       "TV Show    0.303849\n",
       "Name: type, dtype: float64"
      ]
     },
     "execution_count": 5,
     "metadata": {},
     "output_type": "execute_result"
    }
   ],
   "source": [
    "df['type'].value_counts('types')"
   ]
  },
  {
   "cell_type": "markdown",
   "id": "1e136dd2",
   "metadata": {
    "papermill": {
     "duration": 0.010921,
     "end_time": "2022-06-06T23:09:06.051636",
     "exception": false,
     "start_time": "2022-06-06T23:09:06.040715",
     "status": "completed"
    },
    "tags": []
   },
   "source": [
    "One can see that almost 70% of Netflix's titles are movies. Let's plot it on a pie chart."
   ]
  },
  {
   "cell_type": "code",
   "execution_count": 6,
   "id": "5a4e8370",
   "metadata": {
    "execution": {
     "iopub.execute_input": "2022-06-06T23:09:06.076979Z",
     "iopub.status.busy": "2022-06-06T23:09:06.076273Z",
     "iopub.status.idle": "2022-06-06T23:09:06.091301Z",
     "shell.execute_reply": "2022-06-06T23:09:06.091896Z",
     "shell.execute_reply.started": "2022-06-06T22:41:06.314073Z"
    },
    "papermill": {
     "duration": 0.029387,
     "end_time": "2022-06-06T23:09:06.092101",
     "exception": false,
     "start_time": "2022-06-06T23:09:06.062714",
     "status": "completed"
    },
    "tags": []
   },
   "outputs": [
    {
     "name": "stdout",
     "output_type": "stream",
     "text": [
      "{'movies': 6131, 'TV Show': 2676}\n"
     ]
    }
   ],
   "source": [
    "# Inserting the values aboce in a python dictionary.\n",
    "proportion = {}\n",
    "\n",
    "proportion['movies'] = df[df['type']=='Movie']['type'].count()\n",
    "proportion['TV Show'] = df[df['type']=='TV Show']['type'].count()\n",
    "\n",
    "print(proportion)\n"
   ]
  },
  {
   "cell_type": "code",
   "execution_count": 7,
   "id": "6a563ae2",
   "metadata": {
    "execution": {
     "iopub.execute_input": "2022-06-06T23:09:06.139992Z",
     "iopub.status.busy": "2022-06-06T23:09:06.139093Z",
     "iopub.status.idle": "2022-06-06T23:09:06.260636Z",
     "shell.execute_reply": "2022-06-06T23:09:06.259912Z",
     "shell.execute_reply.started": "2022-06-06T22:41:06.336531Z"
    },
    "papermill": {
     "duration": 0.150897,
     "end_time": "2022-06-06T23:09:06.260789",
     "exception": false,
     "start_time": "2022-06-06T23:09:06.109892",
     "status": "completed"
    },
    "tags": []
   },
   "outputs": [
    {
     "data": {
      "image/png": "[encoded data removed]",
      "text/plain": [
       "<Figure size 432x288 with 1 Axes>"
      ]
     },
     "metadata": {},
     "output_type": "display_data"
    }
   ],
   "source": [
    "# Data to plot\n",
    "labels = []\n",
    "sizes = []\n",
    "\n",
    "for x, y in proportion.items():\n",
    "    labels.append(x)\n",
    "    sizes.append(y)\n",
    "    \n",
    "labels = [x.upper() for x in labels]    \n",
    "colors_list = ['blue','cyan']    \n",
    "    \n",
    "# Plot\n",
    "plt.pie(sizes, labels=labels, colors=colors_list, autopct='%.1f%%')\n",
    "plt.title(\"Distribution of types\")\n",
    "\n",
    "\n",
    "plt.show()"
   ]
  },
  {
   "cell_type": "markdown",
   "id": "6c83f502",
   "metadata": {
    "papermill": {
     "duration": 0.021468,
     "end_time": "2022-06-06T23:09:06.304162",
     "exception": false,
     "start_time": "2022-06-06T23:09:06.282694",
     "status": "completed"
    },
    "tags": []
   },
   "source": [
    "Then we can see that nearly 70% of Netflix's content are movies."
   ]
  },
  {
   "cell_type": "markdown",
   "id": "09c17d3a",
   "metadata": {
    "papermill": {
     "duration": 0.020775,
     "end_time": "2022-06-06T23:09:06.346946",
     "exception": false,
     "start_time": "2022-06-06T23:09:06.326171",
     "status": "completed"
    },
    "tags": []
   },
   "source": [
    "# Releases by year"
   ]
  },
  {
   "cell_type": "code",
   "execution_count": 8,
   "id": "27ff9e53",
   "metadata": {
    "execution": {
     "iopub.execute_input": "2022-06-06T23:09:06.390121Z",
     "iopub.status.busy": "2022-06-06T23:09:06.389518Z",
     "iopub.status.idle": "2022-06-06T23:09:06.773723Z",
     "shell.execute_reply": "2022-06-06T23:09:06.773064Z",
     "shell.execute_reply.started": "2022-06-06T23:08:20.268225Z"
    },
    "papermill": {
     "duration": 0.408743,
     "end_time": "2022-06-06T23:09:06.773863",
     "exception": false,
     "start_time": "2022-06-06T23:09:06.365120",
     "status": "completed"
    },
    "tags": []
   },
   "outputs": [
    {
     "data": {
      "image/png": "[encoded data removed]",
      "text/plain": [
       "<Figure size 1440x432 with 1 Axes>"
      ]
     },
     "metadata": {
      "needs_background": "light"
     },
     "output_type": "display_data"
    }
   ],
   "source": [
    "# Set the figure size\n",
    "\n",
    "plt.rcParams[\"figure.figsize\"] = (20, 6)\n",
    "\n",
    "releases = df['release_year'].groupby([df.release_year.dt.year.rename('year')]).agg('count').plot()"
   ]
  }
 ],
 "metadata": {
  "kernelspec": {
   "display_name": "Python 3",
   "language": "python",
   "name": "python3"
  },
  "language_info": {
   "codemirror_mode": {
    "name": "ipython",
    "version": 3
   },
   "file_extension": ".py",
   "mimetype": "text/x-python",
   "name": "python",
   "nbconvert_exporter": "python",
   "pygments_lexer": "ipython3",
   "version": "3.7.12"
  },
  "papermill": {
   "default_parameters": {},
   "duration": 13.808136,
   "end_time": "2022-06-06T23:09:07.705451",
   "environment_variables": {},
   "exception": null,
   "input_path": "__notebook__.ipynb",
   "output_path": "__notebook__.ipynb",
   "parameters": {},
   "start_time": "2022-06-06T23:08:53.897315",
   "version": "2.3.3"
  }
 },
 "nbformat": 4,
 "nbformat_minor": 5
}
