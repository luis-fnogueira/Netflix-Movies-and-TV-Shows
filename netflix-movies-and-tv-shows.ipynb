{
 "cells": [
  {
   "cell_type": "code",
   "execution_count": 1,
   "id": "16ac5c8a",
   "metadata": {
    "_cell_guid": "b1076dfc-b9ad-4769-8c92-a6c4dae69d19",
    "_uuid": "8f2839f25d086af736a60e9eeb907d3b93b6e0e5",
    "execution": {
     "iopub.execute_input": "2022-03-23T23:02:14.333648Z",
     "iopub.status.busy": "2022-03-23T23:02:14.332740Z",
     "iopub.status.idle": "2022-03-23T23:02:14.346123Z",
     "shell.execute_reply": "2022-03-23T23:02:14.345055Z",
     "shell.execute_reply.started": "2022-03-23T22:12:37.705141Z"
    },
    "papermill": {
     "duration": 0.041483,
     "end_time": "2022-03-23T23:02:14.346360",
     "exception": false,
     "start_time": "2022-03-23T23:02:14.304877",
     "status": "completed"
    },
    "tags": []
   },
   "outputs": [
    {
     "name": "stdout",
     "output_type": "stream",
     "text": [
      "/kaggle/input/netflix-shows/netflix_titles.csv\n"
     ]
    }
   ],
   "source": [
    "# This Python 3 environment comes with many helpful analytics libraries installed\n",
    "# It is defined by the kaggle/python Docker image: https://github.com/kaggle/docker-python\n",
    "# For example, here's several helpful packages to load\n",
    "\n",
    "import numpy as np # linear algebra\n",
    "import pandas as pd # data processing, CSV file I/O (e.g. pd.read_csv)\n",
    "%matplotlib inline\n",
    "import matplotlib.pyplot as plt\n",
    "\n",
    "# Input data files are available in the read-only \"../input/\" directory\n",
    "# For example, running this (by clicking run or pressing Shift+Enter) will list all files under the input directory\n",
    "\n",
    "import os\n",
    "for dirname, _, filenames in os.walk('/kaggle/input'):\n",
    "    for filename in filenames:\n",
    "        print(os.path.join(dirname, filename))\n",
    "\n",
    "# You can write up to 20GB to the current directory (/kaggle/working/) that gets preserved as output when you create a version using \"Save & Run All\" \n",
    "# You can also write temporary files to /kaggle/temp/, but they won't be saved outside of the current session"
   ]
  },
  {
   "cell_type": "markdown",
   "id": "6bb0ca16",
   "metadata": {
    "papermill": {
     "duration": 0.01427,
     "end_time": "2022-03-23T23:02:14.375718",
     "exception": false,
     "start_time": "2022-03-23T23:02:14.361448",
     "status": "completed"
    },
    "tags": []
   },
   "source": [
    "Creating the dataframe and having the first glances on the dataset."
   ]
  },
  {
   "cell_type": "code",
   "execution_count": 2,
   "id": "731b33aa",
   "metadata": {
    "execution": {
     "iopub.execute_input": "2022-03-23T23:02:14.407439Z",
     "iopub.status.busy": "2022-03-23T23:02:14.406544Z",
     "iopub.status.idle": "2022-03-23T23:02:14.545458Z",
     "shell.execute_reply": "2022-03-23T23:02:14.546065Z",
     "shell.execute_reply.started": "2022-03-23T22:12:37.744004Z"
    },
    "papermill": {
     "duration": 0.157958,
     "end_time": "2022-03-23T23:02:14.546308",
     "exception": false,
     "start_time": "2022-03-23T23:02:14.388350",
     "status": "completed"
    },
    "tags": []
   },
   "outputs": [],
   "source": [
    "df = pd.read_csv('/kaggle/input/netflix-shows/netflix_titles.csv')"
   ]
  },
  {
   "cell_type": "code",
   "execution_count": 3,
   "id": "451db2fe",
   "metadata": {
    "execution": {
     "iopub.execute_input": "2022-03-23T23:02:14.582742Z",
     "iopub.status.busy": "2022-03-23T23:02:14.576883Z",
     "iopub.status.idle": "2022-03-23T23:02:14.606707Z",
     "shell.execute_reply": "2022-03-23T23:02:14.607302Z",
     "shell.execute_reply.started": "2022-03-23T22:12:37.870046Z"
    },
    "papermill": {
     "duration": 0.048111,
     "end_time": "2022-03-23T23:02:14.607505",
     "exception": false,
     "start_time": "2022-03-23T23:02:14.559394",
     "status": "completed"
    },
    "tags": []
   },
   "outputs": [
    {
     "data": {
      "text/html": [
       "<div>\n",
       "<style scoped>\n",
       "    .dataframe tbody tr th:only-of-type {\n",
       "        vertical-align: middle;\n",
       "    }\n",
       "\n",
       "    .dataframe tbody tr th {\n",
       "        vertical-align: top;\n",
       "    }\n",
       "\n",
       "    .dataframe thead th {\n",
       "        text-align: right;\n",
       "    }\n",
       "</style>\n",
       "<table border=\"1\" class=\"dataframe\">\n",
       "  <thead>\n",
       "    <tr style=\"text-align: right;\">\n",
       "      <th></th>\n",
       "      <th>show_id</th>\n",
       "      <th>type</th>\n",
       "      <th>title</th>\n",
       "      <th>director</th>\n",
       "      <th>cast</th>\n",
       "      <th>country</th>\n",
       "      <th>date_added</th>\n",
       "      <th>release_year</th>\n",
       "      <th>rating</th>\n",
       "      <th>duration</th>\n",
       "      <th>listed_in</th>\n",
       "      <th>description</th>\n",
       "    </tr>\n",
       "  </thead>\n",
       "  <tbody>\n",
       "    <tr>\n",
       "      <th>0</th>\n",
       "      <td>s1</td>\n",
       "      <td>Movie</td>\n",
       "      <td>Dick Johnson Is Dead</td>\n",
       "      <td>Kirsten Johnson</td>\n",
       "      <td>NaN</td>\n",
       "      <td>United States</td>\n",
       "      <td>September 25, 2021</td>\n",
       "      <td>2020</td>\n",
       "      <td>PG-13</td>\n",
       "      <td>90 min</td>\n",
       "      <td>Documentaries</td>\n",
       "      <td>As her father nears the end of his life, filmm...</td>\n",
       "    </tr>\n",
       "    <tr>\n",
       "      <th>1</th>\n",
       "      <td>s2</td>\n",
       "      <td>TV Show</td>\n",
       "      <td>Blood &amp; Water</td>\n",
       "      <td>NaN</td>\n",
       "      <td>Ama Qamata, Khosi Ngema, Gail Mabalane, Thaban...</td>\n",
       "      <td>South Africa</td>\n",
       "      <td>September 24, 2021</td>\n",
       "      <td>2021</td>\n",
       "      <td>TV-MA</td>\n",
       "      <td>2 Seasons</td>\n",
       "      <td>International TV Shows, TV Dramas, TV Mysteries</td>\n",
       "      <td>After crossing paths at a party, a Cape Town t...</td>\n",
       "    </tr>\n",
       "    <tr>\n",
       "      <th>2</th>\n",
       "      <td>s3</td>\n",
       "      <td>TV Show</td>\n",
       "      <td>Ganglands</td>\n",
       "      <td>Julien Leclercq</td>\n",
       "      <td>Sami Bouajila, Tracy Gotoas, Samuel Jouy, Nabi...</td>\n",
       "      <td>NaN</td>\n",
       "      <td>September 24, 2021</td>\n",
       "      <td>2021</td>\n",
       "      <td>TV-MA</td>\n",
       "      <td>1 Season</td>\n",
       "      <td>Crime TV Shows, International TV Shows, TV Act...</td>\n",
       "      <td>To protect his family from a powerful drug lor...</td>\n",
       "    </tr>\n",
       "    <tr>\n",
       "      <th>3</th>\n",
       "      <td>s4</td>\n",
       "      <td>TV Show</td>\n",
       "      <td>Jailbirds New Orleans</td>\n",
       "      <td>NaN</td>\n",
       "      <td>NaN</td>\n",
       "      <td>NaN</td>\n",
       "      <td>September 24, 2021</td>\n",
       "      <td>2021</td>\n",
       "      <td>TV-MA</td>\n",
       "      <td>1 Season</td>\n",
       "      <td>Docuseries, Reality TV</td>\n",
       "      <td>Feuds, flirtations and toilet talk go down amo...</td>\n",
       "    </tr>\n",
       "    <tr>\n",
       "      <th>4</th>\n",
       "      <td>s5</td>\n",
       "      <td>TV Show</td>\n",
       "      <td>Kota Factory</td>\n",
       "      <td>NaN</td>\n",
       "      <td>Mayur More, Jitendra Kumar, Ranjan Raj, Alam K...</td>\n",
       "      <td>India</td>\n",
       "      <td>September 24, 2021</td>\n",
       "      <td>2021</td>\n",
       "      <td>TV-MA</td>\n",
       "      <td>2 Seasons</td>\n",
       "      <td>International TV Shows, Romantic TV Shows, TV ...</td>\n",
       "      <td>In a city of coaching centers known to train I...</td>\n",
       "    </tr>\n",
       "  </tbody>\n",
       "</table>\n",
       "</div>"
      ],
      "text/plain": [
       "  show_id     type                  title         director  \\\n",
       "0      s1    Movie   Dick Johnson Is Dead  Kirsten Johnson   \n",
       "1      s2  TV Show          Blood & Water              NaN   \n",
       "2      s3  TV Show              Ganglands  Julien Leclercq   \n",
       "3      s4  TV Show  Jailbirds New Orleans              NaN   \n",
       "4      s5  TV Show           Kota Factory              NaN   \n",
       "\n",
       "                                                cast        country  \\\n",
       "0                                                NaN  United States   \n",
       "1  Ama Qamata, Khosi Ngema, Gail Mabalane, Thaban...   South Africa   \n",
       "2  Sami Bouajila, Tracy Gotoas, Samuel Jouy, Nabi...            NaN   \n",
       "3                                                NaN            NaN   \n",
       "4  Mayur More, Jitendra Kumar, Ranjan Raj, Alam K...          India   \n",
       "\n",
       "           date_added  release_year rating   duration  \\\n",
       "0  September 25, 2021          2020  PG-13     90 min   \n",
       "1  September 24, 2021          2021  TV-MA  2 Seasons   \n",
       "2  September 24, 2021          2021  TV-MA   1 Season   \n",
       "3  September 24, 2021          2021  TV-MA   1 Season   \n",
       "4  September 24, 2021          2021  TV-MA  2 Seasons   \n",
       "\n",
       "                                           listed_in  \\\n",
       "0                                      Documentaries   \n",
       "1    International TV Shows, TV Dramas, TV Mysteries   \n",
       "2  Crime TV Shows, International TV Shows, TV Act...   \n",
       "3                             Docuseries, Reality TV   \n",
       "4  International TV Shows, Romantic TV Shows, TV ...   \n",
       "\n",
       "                                         description  \n",
       "0  As her father nears the end of his life, filmm...  \n",
       "1  After crossing paths at a party, a Cape Town t...  \n",
       "2  To protect his family from a powerful drug lor...  \n",
       "3  Feuds, flirtations and toilet talk go down amo...  \n",
       "4  In a city of coaching centers known to train I...  "
      ]
     },
     "execution_count": 3,
     "metadata": {},
     "output_type": "execute_result"
    }
   ],
   "source": [
    "df.head()"
   ]
  },
  {
   "cell_type": "code",
   "execution_count": 4,
   "id": "c5a5d740",
   "metadata": {
    "execution": {
     "iopub.execute_input": "2022-03-23T23:02:14.638996Z",
     "iopub.status.busy": "2022-03-23T23:02:14.637874Z",
     "iopub.status.idle": "2022-03-23T23:02:14.665988Z",
     "shell.execute_reply": "2022-03-23T23:02:14.666568Z",
     "shell.execute_reply.started": "2022-03-23T22:22:53.752360Z"
    },
    "papermill": {
     "duration": 0.046083,
     "end_time": "2022-03-23T23:02:14.666770",
     "exception": false,
     "start_time": "2022-03-23T23:02:14.620687",
     "status": "completed"
    },
    "tags": []
   },
   "outputs": [
    {
     "data": {
      "text/html": [
       "<div>\n",
       "<style scoped>\n",
       "    .dataframe tbody tr th:only-of-type {\n",
       "        vertical-align: middle;\n",
       "    }\n",
       "\n",
       "    .dataframe tbody tr th {\n",
       "        vertical-align: top;\n",
       "    }\n",
       "\n",
       "    .dataframe thead th {\n",
       "        text-align: right;\n",
       "    }\n",
       "</style>\n",
       "<table border=\"1\" class=\"dataframe\">\n",
       "  <thead>\n",
       "    <tr style=\"text-align: right;\">\n",
       "      <th></th>\n",
       "      <th>release_year</th>\n",
       "    </tr>\n",
       "  </thead>\n",
       "  <tbody>\n",
       "    <tr>\n",
       "      <th>count</th>\n",
       "      <td>8807.000000</td>\n",
       "    </tr>\n",
       "    <tr>\n",
       "      <th>mean</th>\n",
       "      <td>2014.180198</td>\n",
       "    </tr>\n",
       "    <tr>\n",
       "      <th>std</th>\n",
       "      <td>8.819312</td>\n",
       "    </tr>\n",
       "    <tr>\n",
       "      <th>min</th>\n",
       "      <td>1925.000000</td>\n",
       "    </tr>\n",
       "    <tr>\n",
       "      <th>25%</th>\n",
       "      <td>2013.000000</td>\n",
       "    </tr>\n",
       "    <tr>\n",
       "      <th>50%</th>\n",
       "      <td>2017.000000</td>\n",
       "    </tr>\n",
       "    <tr>\n",
       "      <th>75%</th>\n",
       "      <td>2019.000000</td>\n",
       "    </tr>\n",
       "    <tr>\n",
       "      <th>max</th>\n",
       "      <td>2021.000000</td>\n",
       "    </tr>\n",
       "  </tbody>\n",
       "</table>\n",
       "</div>"
      ],
      "text/plain": [
       "       release_year\n",
       "count   8807.000000\n",
       "mean    2014.180198\n",
       "std        8.819312\n",
       "min     1925.000000\n",
       "25%     2013.000000\n",
       "50%     2017.000000\n",
       "75%     2019.000000\n",
       "max     2021.000000"
      ]
     },
     "execution_count": 4,
     "metadata": {},
     "output_type": "execute_result"
    }
   ],
   "source": [
    "df.describe()"
   ]
  },
  {
   "cell_type": "code",
   "execution_count": 5,
   "id": "1d05a105",
   "metadata": {
    "execution": {
     "iopub.execute_input": "2022-03-23T23:02:14.700759Z",
     "iopub.status.busy": "2022-03-23T23:02:14.699664Z",
     "iopub.status.idle": "2022-03-23T23:02:14.721196Z",
     "shell.execute_reply": "2022-03-23T23:02:14.720440Z",
     "shell.execute_reply.started": "2022-03-23T22:31:02.558407Z"
    },
    "papermill": {
     "duration": 0.040111,
     "end_time": "2022-03-23T23:02:14.721378",
     "exception": false,
     "start_time": "2022-03-23T23:02:14.681267",
     "status": "completed"
    },
    "tags": []
   },
   "outputs": [
    {
     "data": {
      "text/plain": [
       "show_id            0\n",
       "type               0\n",
       "title              0\n",
       "director        2634\n",
       "cast             825\n",
       "country          831\n",
       "date_added        10\n",
       "release_year       0\n",
       "rating             4\n",
       "duration           3\n",
       "listed_in          0\n",
       "description        0\n",
       "dtype: int64"
      ]
     },
     "execution_count": 5,
     "metadata": {},
     "output_type": "execute_result"
    }
   ],
   "source": [
    "# Understanding the null values in the dataset\n",
    "df.isnull().sum()"
   ]
  },
  {
   "cell_type": "markdown",
   "id": "0e7b5982",
   "metadata": {
    "papermill": {
     "duration": 0.014596,
     "end_time": "2022-03-23T23:02:14.750417",
     "exception": false,
     "start_time": "2022-03-23T23:02:14.735821",
     "status": "completed"
    },
    "tags": []
   },
   "source": [
    "# Let's see how is the proportion of types."
   ]
  },
  {
   "cell_type": "code",
   "execution_count": 6,
   "id": "45b6740b",
   "metadata": {
    "execution": {
     "iopub.execute_input": "2022-03-23T23:02:14.792762Z",
     "iopub.status.busy": "2022-03-23T23:02:14.791904Z",
     "iopub.status.idle": "2022-03-23T23:02:14.795040Z",
     "shell.execute_reply": "2022-03-23T23:02:14.795601Z",
     "shell.execute_reply.started": "2022-03-23T22:12:37.901534Z"
    },
    "papermill": {
     "duration": 0.029384,
     "end_time": "2022-03-23T23:02:14.795799",
     "exception": false,
     "start_time": "2022-03-23T23:02:14.766415",
     "status": "completed"
    },
    "tags": []
   },
   "outputs": [
    {
     "data": {
      "text/plain": [
       "Movie      0.696151\n",
       "TV Show    0.303849\n",
       "Name: type, dtype: float64"
      ]
     },
     "execution_count": 6,
     "metadata": {},
     "output_type": "execute_result"
    }
   ],
   "source": [
    "df['type'].value_counts('types')"
   ]
  },
  {
   "cell_type": "markdown",
   "id": "a629d8e6",
   "metadata": {
    "papermill": {
     "duration": 0.014199,
     "end_time": "2022-03-23T23:02:14.824669",
     "exception": false,
     "start_time": "2022-03-23T23:02:14.810470",
     "status": "completed"
    },
    "tags": []
   },
   "source": [
    "One can see that almost 70% of Netflix's titles are movies. Let's plot it on a pie chart."
   ]
  },
  {
   "cell_type": "code",
   "execution_count": 7,
   "id": "6d0a073b",
   "metadata": {
    "execution": {
     "iopub.execute_input": "2022-03-23T23:02:14.871892Z",
     "iopub.status.busy": "2022-03-23T23:02:14.866730Z",
     "iopub.status.idle": "2022-03-23T23:02:14.878051Z",
     "shell.execute_reply": "2022-03-23T23:02:14.878664Z",
     "shell.execute_reply.started": "2022-03-23T22:12:37.918354Z"
    },
    "papermill": {
     "duration": 0.03899,
     "end_time": "2022-03-23T23:02:14.878873",
     "exception": false,
     "start_time": "2022-03-23T23:02:14.839883",
     "status": "completed"
    },
    "tags": []
   },
   "outputs": [
    {
     "name": "stdout",
     "output_type": "stream",
     "text": [
      "{'movies': 6131, 'TV Show': 2676}\n"
     ]
    }
   ],
   "source": [
    "# Inserting the values aboce in a python dictionary.\n",
    "proportion = {}\n",
    "\n",
    "proportion['movies'] = df[df['type']=='Movie']['type'].count()\n",
    "proportion['TV Show'] = df[df['type']=='TV Show']['type'].count()\n",
    "\n",
    "print(proportion)\n"
   ]
  },
  {
   "cell_type": "code",
   "execution_count": 8,
   "id": "16ed6cd0",
   "metadata": {
    "execution": {
     "iopub.execute_input": "2022-03-23T23:02:14.914409Z",
     "iopub.status.busy": "2022-03-23T23:02:14.913612Z",
     "iopub.status.idle": "2022-03-23T23:02:15.082714Z",
     "shell.execute_reply": "2022-03-23T23:02:15.081592Z",
     "shell.execute_reply.started": "2022-03-23T22:12:37.942750Z"
    },
    "papermill": {
     "duration": 0.189003,
     "end_time": "2022-03-23T23:02:15.083000",
     "exception": false,
     "start_time": "2022-03-23T23:02:14.893997",
     "status": "completed"
    },
    "tags": []
   },
   "outputs": [
    {
     "data": {
      "image/png": "[encoded data removed]",
      "text/plain": [
       "<Figure size 432x288 with 1 Axes>"
      ]
     },
     "metadata": {},
     "output_type": "display_data"
    }
   ],
   "source": [
    "# Data to plot\n",
    "labels = []\n",
    "sizes = []\n",
    "\n",
    "for x, y in proportion.items():\n",
    "    labels.append(x)\n",
    "    sizes.append(y)\n",
    "    \n",
    "labels = [x.upper() for x in labels]    \n",
    "colors_list = ['blue','cyan']    \n",
    "    \n",
    "# Plot\n",
    "plt.pie(sizes, labels=labels, colors=colors_list, autopct='%.1f%%')\n",
    "plt.title(\"Distribution of types\")\n",
    "\n",
    "\n",
    "plt.show()"
   ]
  },
  {
   "cell_type": "markdown",
   "id": "f5c549a8",
   "metadata": {
    "papermill": {
     "duration": 0.027606,
     "end_time": "2022-03-23T23:02:15.140633",
     "exception": false,
     "start_time": "2022-03-23T23:02:15.113027",
     "status": "completed"
    },
    "tags": []
   },
   "source": [
    "Then we can see that nearly 70% of Netflix's content are movies."
   ]
  }
 ],
 "metadata": {
  "kernelspec": {
   "display_name": "Python 3",
   "language": "python",
   "name": "python3"
  },
  "language_info": {
   "codemirror_mode": {
    "name": "ipython",
    "version": 3
   },
   "file_extension": ".py",
   "mimetype": "text/x-python",
   "name": "python",
   "nbconvert_exporter": "python",
   "pygments_lexer": "ipython3",
   "version": "3.7.12"
  },
  "papermill": {
   "default_parameters": {},
   "duration": 14.418581,
   "end_time": "2022-03-23T23:02:15.970376",
   "environment_variables": {},
   "exception": null,
   "input_path": "__notebook__.ipynb",
   "output_path": "__notebook__.ipynb",
   "parameters": {},
   "start_time": "2022-03-23T23:02:01.551795",
   "version": "2.3.3"
  }
 },
 "nbformat": 4,
 "nbformat_minor": 5
}
